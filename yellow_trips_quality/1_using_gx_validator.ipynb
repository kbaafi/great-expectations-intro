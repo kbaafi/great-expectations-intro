{
 "cells": [
  {
   "cell_type": "code",
   "execution_count": 23,
   "id": "b1eedca9",
   "metadata": {},
   "outputs": [],
   "source": [
    "import pandas as pd\n",
    "from datetime import datetime"
   ]
  },
  {
   "cell_type": "code",
   "execution_count": 24,
   "id": "23f54828",
   "metadata": {},
   "outputs": [],
   "source": [
    "import great_expectations as gx\n",
    "from great_expectations.core.batch import RuntimeBatchRequest\n",
    "from great_expectations.core.yaml_handler import YAMLHandler\n",
    "from great_expectations.data_context.types.base import (\n",
    "    DataContextConfig,\n",
    "    InMemoryStoreBackendDefaults,\n",
    ")\n",
    "from great_expectations.util import get_context\n",
    "from gx_demo_dataprep import trips_sample_random\n",
    "yaml = YAMLHandler()"
   ]
  },
  {
   "cell_type": "code",
   "execution_count": 25,
   "id": "31d50df9-faf1-4c4b-a3c7-1f6d44650aa5",
   "metadata": {
    "tags": []
   },
   "outputs": [],
   "source": [
    "trips_df = trips_sample_random()"
   ]
  },
  {
   "cell_type": "code",
   "execution_count": 26,
   "id": "ab563a99-277f-403f-bec0-bab444f3c605",
   "metadata": {},
   "outputs": [],
   "source": [
    "# INITIALIZING THE DATA CONTEXT\n",
    "data_context_configuration = DataContextConfig(\n",
    "    store_backend_defaults=InMemoryStoreBackendDefaults()\n",
    ")\n",
    "\n",
    "data_context = gx.get_context(project_config=data_context_configuration)"
   ]
  },
  {
   "cell_type": "code",
   "execution_count": 27,
   "id": "5e078186",
   "metadata": {},
   "outputs": [
    {
     "name": "stdout",
     "output_type": "stream",
     "text": [
      "Attempting to instantiate class from config...\n",
      "\tInstantiating as a Datasource, since class_name is Datasource\n",
      "\tSuccessfully instantiated Datasource\n",
      "\n",
      "\n",
      "ExecutionEngine class name: PandasExecutionEngine\n",
      "Data Connectors:\n",
      "\tnyc_yellowcab_trips:RuntimeDataConnector\n",
      "\n",
      "\tAvailable data_asset_names (0 of 0):\n",
      "\t\tNote : RuntimeDataConnector will not have data_asset_names until they are passed in through RuntimeBatchRequest\n",
      "\n",
      "\tUnmatched data_references (0 of 0): []\n",
      "\n"
     ]
    },
    {
     "data": {
      "text/plain": [
       "<great_expectations.datasource.new_datasource.Datasource at 0x7f5a0cc434f0>"
      ]
     },
     "execution_count": 27,
     "metadata": {},
     "output_type": "execute_result"
    }
   ],
   "source": [
    "# CONFIGURE DATASOURCE\n",
    "\n",
    "datasource_name = \"nyc_yellowcab_trips\"\n",
    "\n",
    "datasource_config = {\n",
    "    \"name\": datasource_name,\n",
    "    \"class_name\": \"Datasource\",\n",
    "    \"execution_engine\": {\"class_name\": \"PandasExecutionEngine\"},\n",
    "    \"data_connectors\": {\n",
    "        datasource_name: {\n",
    "            \"class_name\": \"RuntimeDataConnector\",\n",
    "            \"batch_identifiers\": [\"batch_id\", \"batch_datetime\"],\n",
    "        }\n",
    "    },\n",
    "}\n",
    "\n",
    "data_context.test_yaml_config(yaml.dump(datasource_config))\n",
    "data_context.add_datasource(**datasource_config)"
   ]
  },
  {
   "cell_type": "code",
   "execution_count": 28,
   "id": "d6d8bd99",
   "metadata": {},
   "outputs": [],
   "source": [
    "# CREATE BATCH REQUEST\n",
    "dataset_name = datasource_name\n",
    "\n",
    "batch_request = RuntimeBatchRequest(\n",
    "    datasource_name=datasource_name,\n",
    "    data_connector_name=dataset_name,\n",
    "    data_asset_name=dataset_name,\n",
    "    runtime_parameters={\"batch_data\": trips_df},  # our nyc trips dataframe\n",
    "    batch_identifiers={\n",
    "        \"batch_id\": f\"{dataset_name}_{datetime.strftime(datetime.now(), '%Y%m%d%H%M%S')}\",\n",
    "        \n",
    "    },\n",
    ")"
   ]
  },
  {
   "cell_type": "code",
   "execution_count": 29,
   "id": "7c9098a7",
   "metadata": {},
   "outputs": [],
   "source": [
    "# WAYS OF SETTING UP YOUR EXPECTATIONS AND EVALUATING THEM\n",
    "\n",
    "#  1. Create an empty Expectation Suite and  and use an Expectation Validator to evaluate your expectations\n",
    "#  2. Create a set of Expectations and evalutate them using a Checkpoint"
   ]
  },
  {
   "cell_type": "code",
   "execution_count": 30,
   "id": "2f930abf",
   "metadata": {},
   "outputs": [],
   "source": [
    "# Using an empty Expectation suite and use a validator to evaluate your expectations\n",
    "\n",
    "expectation_suite_name = f\"{dataset_name}_expectation_suite\"\n",
    "\n",
    "data_context.add_or_update_expectation_suite(\n",
    "    expectation_suite_name=expectation_suite_name\n",
    ")\n",
    "\n",
    "validator = data_context.get_validator(\n",
    "    batch_request=batch_request\n",
    ")"
   ]
  },
  {
   "cell_type": "code",
   "execution_count": 31,
   "id": "1b749bbe",
   "metadata": {},
   "outputs": [
    {
     "data": {
      "application/vnd.jupyter.widget-view+json": {
       "model_id": "9c0954dce8b84431a70c16c3fffba809",
       "version_major": 2,
       "version_minor": 0
      },
      "text/plain": [
       "Calculating Metrics:   0%|          | 0/6 [00:00<?, ?it/s]"
      ]
     },
     "metadata": {},
     "output_type": "display_data"
    },
    {
     "data": {
      "application/vnd.jupyter.widget-view+json": {
       "model_id": "7e14164bf4bc4082b4da15c506903eb8",
       "version_major": 2,
       "version_minor": 0
      },
      "text/plain": [
       "Calculating Metrics:   0%|          | 0/6 [00:00<?, ?it/s]"
      ]
     },
     "metadata": {},
     "output_type": "display_data"
    },
    {
     "data": {
      "text/plain": [
       "{\n",
       "  \"meta\": {},\n",
       "  \"success\": true,\n",
       "  \"result\": {\n",
       "    \"element_count\": 10000,\n",
       "    \"unexpected_count\": 0,\n",
       "    \"unexpected_percent\": 0.0,\n",
       "    \"partial_unexpected_list\": []\n",
       "  },\n",
       "  \"exception_info\": {\n",
       "    \"raised_exception\": false,\n",
       "    \"exception_traceback\": null,\n",
       "    \"exception_message\": null\n",
       "  }\n",
       "}"
      ]
     },
     "execution_count": 31,
     "metadata": {},
     "output_type": "execute_result"
    }
   ],
   "source": [
    "validator.expect_column_values_to_not_be_null(column=\"passenger_count\")\n",
    "validator.expect_column_values_to_not_be_null(column=\"trip_distance\")"
   ]
  },
  {
   "cell_type": "code",
   "execution_count": 32,
   "id": "56fe6ad4",
   "metadata": {},
   "outputs": [],
   "source": [
    "validator.save_expectation_suite(discard_failed_expectations=False)"
   ]
  },
  {
   "cell_type": "code",
   "execution_count": 33,
   "id": "eb8c85b2",
   "metadata": {},
   "outputs": [
    {
     "data": {
      "text/plain": [
       "{\n",
       "  \"action_list\": [\n",
       "    {\n",
       "      \"name\": \"store_validation_result\",\n",
       "      \"action\": {\n",
       "        \"class_name\": \"StoreValidationResultAction\"\n",
       "      }\n",
       "    },\n",
       "    {\n",
       "      \"name\": \"store_evaluation_params\",\n",
       "      \"action\": {\n",
       "        \"class_name\": \"StoreEvaluationParametersAction\"\n",
       "      }\n",
       "    },\n",
       "    {\n",
       "      \"name\": \"update_data_docs\",\n",
       "      \"action\": {\n",
       "        \"class_name\": \"UpdateDataDocsAction\",\n",
       "        \"site_names\": []\n",
       "      }\n",
       "    }\n",
       "  ],\n",
       "  \"batch_request\": {},\n",
       "  \"class_name\": \"Checkpoint\",\n",
       "  \"config_version\": 1.0,\n",
       "  \"evaluation_parameters\": {},\n",
       "  \"module_name\": \"great_expectations.checkpoint\",\n",
       "  \"name\": \"nyc_yellowcab_trips_checkpoint\",\n",
       "  \"profilers\": [],\n",
       "  \"run_name_template\": \"nyc_yellowcab_trips_%Y%m%d-%H%M%S\",\n",
       "  \"runtime_configuration\": {},\n",
       "  \"validations\": []\n",
       "}"
      ]
     },
     "execution_count": 33,
     "metadata": {},
     "output_type": "execute_result"
    }
   ],
   "source": [
    "# CREATING A CHECKPOINT TO VALIDATE EXPECTATIONS\n",
    "checkpoint_name = f\"{dataset_name}_checkpoint\"\n",
    "\n",
    "checkpoint_config = {\n",
    "    \"name\": checkpoint_name,\n",
    "    \"config_version\": 1.0,\n",
    "    \"class_name\": \"SimpleCheckpoint\",\n",
    "    \"run_name_template\": f\"{dataset_name}_%Y%m%d-%H%M%S\",\n",
    "}\n",
    "\n",
    "data_context.add_or_update_checkpoint(**checkpoint_config)"
   ]
  },
  {
   "cell_type": "code",
   "execution_count": 34,
   "id": "bd74ba45",
   "metadata": {},
   "outputs": [
    {
     "data": {
      "application/vnd.jupyter.widget-view+json": {
       "model_id": "175e64834e3943eea4c9bb3cb851430e",
       "version_major": 2,
       "version_minor": 0
      },
      "text/plain": [
       "Calculating Metrics: 0it [00:00, ?it/s]"
      ]
     },
     "metadata": {},
     "output_type": "display_data"
    }
   ],
   "source": [
    "# VALIDATING RESULTS USING CHECKPOINT\n",
    "checkpoint_result = data_context.run_checkpoint(\n",
    "    checkpoint_name=checkpoint_name,\n",
    "    validations=[\n",
    "        {\n",
    "            \"batch_request\": batch_request,\n",
    "            \"expectation_suite_name\": expectation_suite_name\n",
    "        }\n",
    "    ]\n",
    ")"
   ]
  },
  {
   "cell_type": "code",
   "execution_count": 35,
   "id": "4cff58fb",
   "metadata": {},
   "outputs": [],
   "source": [
    "assert(checkpoint_result['success']==True)"
   ]
  }
 ],
 "metadata": {
  "kernelspec": {
   "display_name": "Python 3 (ipykernel)",
   "language": "python",
   "name": "python3"
  },
  "language_info": {
   "codemirror_mode": {
    "name": "ipython",
    "version": 3
   },
   "file_extension": ".py",
   "mimetype": "text/x-python",
   "name": "python",
   "nbconvert_exporter": "python",
   "pygments_lexer": "ipython3",
   "version": "3.10.6"
  }
 },
 "nbformat": 4,
 "nbformat_minor": 5
}
