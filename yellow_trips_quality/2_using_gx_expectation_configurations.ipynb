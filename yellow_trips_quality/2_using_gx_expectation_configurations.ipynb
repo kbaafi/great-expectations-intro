{
 "cells": [
  {
   "cell_type": "code",
   "execution_count": 12,
   "id": "b1eedca9",
   "metadata": {},
   "outputs": [],
   "source": [
    "import pandas as pd\n",
    "from datetime import datetime"
   ]
  },
  {
   "cell_type": "code",
   "execution_count": 13,
   "id": "23f54828",
   "metadata": {},
   "outputs": [],
   "source": [
    "import great_expectations as gx\n",
    "from great_expectations.core.batch import RuntimeBatchRequest\n",
    "from great_expectations.core.yaml_handler import YAMLHandler\n",
    "from great_expectations.data_context.types.base import (\n",
    "    DataContextConfig,\n",
    "    InMemoryStoreBackendDefaults,\n",
    ")\n",
    "from great_expectations.core.expectation_configuration import ExpectationConfiguration\n",
    "from great_expectations.core.expectation_suite import ExpectationSuite\n",
    "from gx_demo_dataprep import trips_sample_random\n",
    "yaml = YAMLHandler()"
   ]
  },
  {
   "cell_type": "code",
   "execution_count": 14,
   "id": "31d50df9-faf1-4c4b-a3c7-1f6d44650aa5",
   "metadata": {
    "tags": []
   },
   "outputs": [],
   "source": [
    "trips_df = trips_sample_random()"
   ]
  },
  {
   "cell_type": "code",
   "execution_count": 15,
   "id": "ab563a99-277f-403f-bec0-bab444f3c605",
   "metadata": {},
   "outputs": [],
   "source": [
    "# INITIALIZING THE DATA CONTEXT\n",
    "data_context_configuration = DataContextConfig(\n",
    "    store_backend_defaults=InMemoryStoreBackendDefaults()\n",
    ")\n",
    "\n",
    "data_context = gx.get_context(project_config=data_context_configuration)"
   ]
  },
  {
   "cell_type": "code",
   "execution_count": 16,
   "id": "5e078186",
   "metadata": {},
   "outputs": [
    {
     "name": "stdout",
     "output_type": "stream",
     "text": [
      "Attempting to instantiate class from config...\n",
      "\tInstantiating as a Datasource, since class_name is Datasource\n",
      "\tSuccessfully instantiated Datasource\n",
      "\n",
      "\n",
      "ExecutionEngine class name: PandasExecutionEngine\n",
      "Data Connectors:\n",
      "\tnyc_yellowcab_trips:RuntimeDataConnector\n",
      "\n",
      "\tAvailable data_asset_names (0 of 0):\n",
      "\t\tNote : RuntimeDataConnector will not have data_asset_names until they are passed in through RuntimeBatchRequest\n",
      "\n",
      "\tUnmatched data_references (0 of 0): []\n",
      "\n"
     ]
    },
    {
     "data": {
      "text/plain": [
       "<great_expectations.datasource.new_datasource.Datasource at 0x7f5a0cb5eaa0>"
      ]
     },
     "execution_count": 16,
     "metadata": {},
     "output_type": "execute_result"
    }
   ],
   "source": [
    "# CONFIGURE DATASOURCE\n",
    "\n",
    "datasource_name = \"nyc_yellowcab_trips\"\n",
    "\n",
    "datasource_config = {\n",
    "    \"name\": datasource_name,\n",
    "    \"class_name\": \"Datasource\",\n",
    "    \"execution_engine\": {\"class_name\": \"PandasExecutionEngine\"},\n",
    "    \"data_connectors\": {\n",
    "        datasource_name: {\n",
    "            \"class_name\": \"RuntimeDataConnector\",\n",
    "            \"batch_identifiers\": [\"batch_id\", \"batch_datetime\"],\n",
    "        }\n",
    "    },\n",
    "}\n",
    "\n",
    "data_context.test_yaml_config(yaml.dump(datasource_config))\n",
    "data_context.add_datasource(**datasource_config)"
   ]
  },
  {
   "cell_type": "code",
   "execution_count": 17,
   "id": "d6d8bd99",
   "metadata": {},
   "outputs": [],
   "source": [
    "# CREATE BATCH REQUEST\n",
    "dataset_name = datasource_name\n",
    "\n",
    "batch_request = RuntimeBatchRequest(\n",
    "    datasource_name=datasource_name,\n",
    "    data_connector_name=dataset_name,\n",
    "    data_asset_name=dataset_name,\n",
    "    runtime_parameters={\"batch_data\": trips_df},  # our nyc trips dataframe\n",
    "    batch_identifiers={\n",
    "        \"batch_id\": f\"{dataset_name}_{datetime.strftime(datetime.now(), '%Y%m%d%H%M%S')}\",\n",
    "        \n",
    "    },\n",
    ")"
   ]
  },
  {
   "cell_type": "code",
   "execution_count": 18,
   "id": "7c9098a7",
   "metadata": {},
   "outputs": [],
   "source": [
    "# WAYS OF SETTING UP YOUR EXPECTATIONS AND EVALUATING THEM\n",
    "\n",
    "#  1. Create an empty Expectation Suite and  and use an Expectation Validator to evaluate your expectations\n",
    "#  2. Create a set of Expectations and evalutate them using a Checkpoint"
   ]
  },
  {
   "cell_type": "code",
   "execution_count": 19,
   "id": "2f930abf",
   "metadata": {},
   "outputs": [
    {
     "data": {
      "text/plain": [
       "{\n",
       "  \"expectations\": [\n",
       "    {\n",
       "      \"meta\": {},\n",
       "      \"kwargs\": {\n",
       "        \"column\": \"passenger_count\"\n",
       "      },\n",
       "      \"expectation_type\": \"expect_column_values_to_not_be_null\"\n",
       "    },\n",
       "    {\n",
       "      \"meta\": {},\n",
       "      \"kwargs\": {\n",
       "        \"column\": \"trip_distance\"\n",
       "      },\n",
       "      \"expectation_type\": \"expect_column_values_to_not_be_null\"\n",
       "    }\n",
       "  ],\n",
       "  \"meta\": {\n",
       "    \"great_expectations_version\": \"0.16.10\"\n",
       "  },\n",
       "  \"data_asset_type\": null,\n",
       "  \"expectation_suite_name\": \"nyc_yellowcab_trips_expectation_suite\",\n",
       "  \"ge_cloud_id\": null\n",
       "}"
      ]
     },
     "execution_count": 19,
     "metadata": {},
     "output_type": "execute_result"
    }
   ],
   "source": [
    "# 2. Building a set of expectations and Evaluating them using a GX Checkpoint\n",
    "\n",
    "expectation_suite_name = f\"{dataset_name}_expectation_suite\"\n",
    "\n",
    "expectation_config_dicts = [\n",
    "    {\n",
    "        \"expectation_type\": \"expect_column_values_to_not_be_null\",\n",
    "        \"kwargs\": {\n",
    "            \"column\": \"passenger_count\"\n",
    "        }\n",
    "    },\n",
    "    {\n",
    "        \"expectation_type\": \"expect_column_values_to_not_be_null\",\n",
    "        \"kwargs\": {\n",
    "            \"column\": \"trip_distance\"\n",
    "        }\n",
    "    }\n",
    "]\n",
    "\n",
    "expectations: list = []\n",
    "expectation_suite = ExpectationSuite(expectation_suite_name=expectation_suite_name)\n",
    "\n",
    "for item in expectation_config_dicts:\n",
    "    config = ExpectationConfiguration(**item)\n",
    "    expectations.append(config)\n",
    "\n",
    "expectation_suite.add_expectation_configurations(expectations)\n",
    "\n",
    "data_context.add_or_update_expectation_suite(expectation_suite=expectation_suite)\n"
   ]
  },
  {
   "cell_type": "code",
   "execution_count": 20,
   "id": "1b749bbe",
   "metadata": {},
   "outputs": [
    {
     "data": {
      "text/plain": [
       "{\n",
       "  \"action_list\": [\n",
       "    {\n",
       "      \"name\": \"store_validation_result\",\n",
       "      \"action\": {\n",
       "        \"class_name\": \"StoreValidationResultAction\"\n",
       "      }\n",
       "    },\n",
       "    {\n",
       "      \"name\": \"store_evaluation_params\",\n",
       "      \"action\": {\n",
       "        \"class_name\": \"StoreEvaluationParametersAction\"\n",
       "      }\n",
       "    },\n",
       "    {\n",
       "      \"name\": \"update_data_docs\",\n",
       "      \"action\": {\n",
       "        \"class_name\": \"UpdateDataDocsAction\",\n",
       "        \"site_names\": []\n",
       "      }\n",
       "    }\n",
       "  ],\n",
       "  \"batch_request\": {},\n",
       "  \"class_name\": \"Checkpoint\",\n",
       "  \"config_version\": 1.0,\n",
       "  \"evaluation_parameters\": {},\n",
       "  \"module_name\": \"great_expectations.checkpoint\",\n",
       "  \"name\": \"nyc_yellowcab_trips_checkpoint\",\n",
       "  \"profilers\": [],\n",
       "  \"run_name_template\": \"nyc_yellowcab_trips_%Y%m%d-%H%M%S\",\n",
       "  \"runtime_configuration\": {},\n",
       "  \"validations\": []\n",
       "}"
      ]
     },
     "execution_count": 20,
     "metadata": {},
     "output_type": "execute_result"
    }
   ],
   "source": [
    "# CREATING A CHECKPOINT TO VALIDATE EXPECTATIONS\n",
    "checkpoint_name = f\"{dataset_name}_checkpoint\"\n",
    "\n",
    "checkpoint_config = {\n",
    "    \"name\": checkpoint_name,\n",
    "    \"config_version\": 1.0,\n",
    "    \"class_name\": \"SimpleCheckpoint\",\n",
    "    \"run_name_template\": f\"{dataset_name}_%Y%m%d-%H%M%S\",\n",
    "}\n",
    "\n",
    "data_context.add_or_update_checkpoint(**checkpoint_config)"
   ]
  },
  {
   "cell_type": "code",
   "execution_count": 21,
   "id": "56fe6ad4",
   "metadata": {},
   "outputs": [
    {
     "data": {
      "application/vnd.jupyter.widget-view+json": {
       "model_id": "5a7a23661f1c40bdb5c11b7d1c8302b7",
       "version_major": 2,
       "version_minor": 0
      },
      "text/plain": [
       "Calculating Metrics:   0%|          | 0/13 [00:00<?, ?it/s]"
      ]
     },
     "metadata": {},
     "output_type": "display_data"
    }
   ],
   "source": [
    "# VALIDATING RESULTS USING CHECKPOINT\n",
    "checkpoint_result = data_context.run_checkpoint(\n",
    "    checkpoint_name=checkpoint_name,\n",
    "    validations=[\n",
    "        {\n",
    "            \"batch_request\": batch_request,\n",
    "            \"expectation_suite_name\": expectation_suite_name\n",
    "        }\n",
    "    ]\n",
    ")"
   ]
  },
  {
   "cell_type": "code",
   "execution_count": 22,
   "id": "4cff58fb",
   "metadata": {},
   "outputs": [
    {
     "ename": "AssertionError",
     "evalue": "",
     "output_type": "error",
     "traceback": [
      "\u001b[0;31m---------------------------------------------------------------------------\u001b[0m",
      "\u001b[0;31mAssertionError\u001b[0m                            Traceback (most recent call last)",
      "Cell \u001b[0;32mIn[22], line 1\u001b[0m\n\u001b[0;32m----> 1\u001b[0m \u001b[39massert\u001b[39;00m(checkpoint_result[\u001b[39m'\u001b[39m\u001b[39msuccess\u001b[39m\u001b[39m'\u001b[39m]\u001b[39m==\u001b[39m\u001b[39mTrue\u001b[39;00m)\n",
      "\u001b[0;31mAssertionError\u001b[0m: "
     ]
    }
   ],
   "source": [
    "assert(checkpoint_result['success']==True)"
   ]
  }
 ],
 "metadata": {
  "kernelspec": {
   "display_name": "Python 3 (ipykernel)",
   "language": "python",
   "name": "python3"
  },
  "language_info": {
   "codemirror_mode": {
    "name": "ipython",
    "version": 3
   },
   "file_extension": ".py",
   "mimetype": "text/x-python",
   "name": "python",
   "nbconvert_exporter": "python",
   "pygments_lexer": "ipython3",
   "version": "3.10.6"
  }
 },
 "nbformat": 4,
 "nbformat_minor": 5
}
